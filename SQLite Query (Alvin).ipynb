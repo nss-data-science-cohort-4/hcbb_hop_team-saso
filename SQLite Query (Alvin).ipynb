{
 "cells": [
  {
   "cell_type": "code",
   "execution_count": 1,
   "metadata": {},
   "outputs": [],
   "source": [
    "import pandas as pd\n",
    "import sqlite3\n",
    "from tqdm.notebook import tqdm\n",
    "import re\n",
    "pd.set_option('display.max_columns', 999)"
   ]
  },
  {
   "cell_type": "markdown",
   "metadata": {},
   "source": [
    "#### Connect to SQLite database"
   ]
  },
  {
   "cell_type": "code",
   "execution_count": 9,
   "metadata": {},
   "outputs": [],
   "source": [
    "db = sqlite3.connect('data/NPPES_Data_Dissemination_February_2021/npidata2.sqlite')"
   ]
  },
  {
   "cell_type": "markdown",
   "metadata": {},
   "source": [
    "#### SQL query for npi data"
   ]
  },
  {
   "cell_type": "code",
   "execution_count": null,
   "metadata": {},
   "outputs": [],
   "source": [
    "query = \"\"\"\n",
    "        SELECT * \n",
    "        FROM npidata\n",
    "        LIMIT 5\n",
    " \"\"\""
   ]
  },
  {
   "cell_type": "markdown",
   "metadata": {},
   "source": [
    "#### Assign query to variable"
   ]
  },
  {
   "cell_type": "code",
   "execution_count": null,
   "metadata": {},
   "outputs": [],
   "source": [
    "npi_sqlite = pd.read_sql(query, db) "
   ]
  },
  {
   "cell_type": "markdown",
   "metadata": {},
   "source": [
    "#### View npi data variable"
   ]
  },
  {
   "cell_type": "code",
   "execution_count": null,
   "metadata": {
    "scrolled": true
   },
   "outputs": [],
   "source": [
    "npi_sqlite"
   ]
  },
  {
   "cell_type": "markdown",
   "metadata": {},
   "source": [
    "#### Run query to join npi data, CBSA data and Taxonomy classification with filter on General Acute Care Hospitals, entity type 2 and CBSA"
   ]
  },
  {
   "cell_type": "code",
   "execution_count": null,
   "metadata": {},
   "outputs": [],
   "source": [
    "query1 = \"\"\"\n",
    "        SELECT *\n",
    "        FROM npidata AS n\n",
    "        INNER JOIN taxonomy AS t\n",
    "        on n.Healthcare_Provider_Taxonomy_Code = t.Code\n",
    "        INNER JOIN hops AS h \n",
    "        on n.NPI = h.to_npi\n",
    "        INNER JOIN CBSA as c\n",
    "        on n.Address_Postal_Codes = c.ZIP\n",
    "        WHERE Entity_Type_Code = 2.0 AND Classification = 'General Acute Care Hospital'AND CBSA = 34980  \n",
    " \"\"\""
   ]
  },
  {
   "cell_type": "markdown",
   "metadata": {},
   "source": [
    "#### Assign variable to above query "
   ]
  },
  {
   "cell_type": "code",
   "execution_count": null,
   "metadata": {},
   "outputs": [],
   "source": [
    "npi_sqlite1 = pd.read_sql(query1, db)"
   ]
  },
  {
   "cell_type": "markdown",
   "metadata": {},
   "source": [
    "#### View query"
   ]
  },
  {
   "cell_type": "code",
   "execution_count": null,
   "metadata": {
    "scrolled": true
   },
   "outputs": [],
   "source": [
    "npi_sqlite1"
   ]
  },
  {
   "cell_type": "markdown",
   "metadata": {},
   "source": [
    "#### Run query to join npi data, CBSA data and Taxonomy classification with filter on entity type 1 and CBSA"
   ]
  },
  {
   "cell_type": "code",
   "execution_count": null,
   "metadata": {},
   "outputs": [],
   "source": [
    "query2 = \"\"\"\n",
    "        SELECT *\n",
    "        FROM npidata AS n\n",
    "        INNER JOIN taxonomy AS t\n",
    "        on n.Healthcare_Provider_Taxonomy_Code = t.Code\n",
    "        INNER JOIN hops AS h \n",
    "        on n.NPI = h.from_npi\n",
    "        INNER JOIN CBSA as c\n",
    "        on n.Address_Postal_Codes = c.ZIP\n",
    "        WHERE Entity_Type_Code = 1.0 AND CBSA = 34980  \n",
    " \"\"\""
   ]
  },
  {
   "cell_type": "markdown",
   "metadata": {},
   "source": [
    "#### Assign variable to above query "
   ]
  },
  {
   "cell_type": "code",
   "execution_count": null,
   "metadata": {},
   "outputs": [],
   "source": [
    "from npi = type code 1, to npi = type code 2"
   ]
  },
  {
   "cell_type": "markdown",
   "metadata": {},
   "source": [
    "#### View query above"
   ]
  },
  {
   "cell_type": "code",
   "execution_count": null,
   "metadata": {},
   "outputs": [],
   "source": [
    "npi_sqlite2"
   ]
  },
  {
   "cell_type": "code",
   "execution_count": null,
   "metadata": {},
   "outputs": [],
   "source": [
    "query3 = \"\"\"\n",
    " SELECT h.from_npi,h2.to_npi,Entity_Type_Code\n",
    "        FROM npidata AS n\n",
    "        INNER JOIN hops AS h \n",
    "        on n.NPI = h.from_npi\n",
    "        INNER JOIN hops AS h2 \n",
    "        on n.NPI = h2.to_npi\n",
    "\"\"\""
   ]
  },
  {
   "cell_type": "code",
   "execution_count": null,
   "metadata": {},
   "outputs": [],
   "source": [
    "npi_sqlite3 = pd.read_sql(query3, db)"
   ]
  },
  {
   "cell_type": "code",
   "execution_count": null,
   "metadata": {},
   "outputs": [],
   "source": [
    "npi_sqlite3"
   ]
  },
  {
   "cell_type": "code",
   "execution_count": 27,
   "metadata": {},
   "outputs": [],
   "source": [
    "query4 = \"\"\"\n",
    "    WITH npi_entity_type_1 AS (\n",
    "        SELECT NPI AS Phys_NPI,\n",
    "        n.Provider_Organization_Name AS Phys_Office,\n",
    "        n.Provider_Last_Name AS Phys_Last_Name, \n",
    "        n.Provider_First_Name AS Phys_First_Name, \n",
    "        t.Classification AS Phys_Class, \n",
    "        t.Specialization AS Phys_Spec\n",
    "        FROM npidata as n\n",
    "        INNER JOIN CBSA as c\n",
    "        ON n.Address_Postal_Codes = c.ZIP\n",
    "        INNER JOIN taxonomy as t\n",
    "        ON n.Healthcare_Provider_Taxonomy_Code = t.Code\n",
    "        WHERE Entity_Type_Code = 1.0 AND CBSA = 34980\n",
    "    ), npi_entity_type_2 AS (\n",
    "        SELECT NPI AS Hosp_NPI, \n",
    "        n.Provider_Organization_Name AS Hospital,\n",
    "        t.Classification AS Hosp_Class, \n",
    "        t.Specialization AS Hosp_Spec\n",
    "        FROM npidata as n\n",
    "        INNER JOIN CBSA as c\n",
    "        ON n.Address_Postal_Codes = c.ZIP\n",
    "        INNER JOIN taxonomy as t\n",
    "        ON n.Healthcare_Provider_Taxonomy_Code = t.Code\n",
    "        WHERE Entity_Type_Code = 2.0 AND CBSA = 34980 AND Classification = 'General Acute Care Hospital'\n",
    "    )\n",
    "    SELECT from_npi, \n",
    "    to_npi, \n",
    "    patient_count, \n",
    "    transaction_count,\n",
    "    average_day_wait, \n",
    "    Phys_NPI,\n",
    "    Phys_Office,\n",
    "    Phys_Last_Name, \n",
    "    Phys_First_Name, \n",
    "    Phys_Class,\n",
    "    Phys_Spec,\n",
    "    Hosp_NPI,\n",
    "    Hospital,\n",
    "    Hosp_Class,\n",
    "    Hosp_Spec\n",
    "    FROM hops\n",
    "    INNER JOIN npi_entity_type_1\n",
    "    ON hops.from_npi = npi_entity_type_1.Phys_NPI\n",
    "    INNER JOIN npi_entity_type_2\n",
    "    ON hops.to_npi = npi_entity_type_2.Hosp_NPI  \n",
    "    WHERE from_npi IN (SELECT Phys_NPI FROM npi_entity_type_1)\n",
    "    AND to_npi IN (SELECT Hosp_NPI FROM npi_entity_type_2)\n",
    "\"\"\""
   ]
  },
  {
   "cell_type": "code",
   "execution_count": 28,
   "metadata": {},
   "outputs": [],
   "source": [
    "filtered_hop_teaming = pd.read_sql(query4, db)"
   ]
  },
  {
   "cell_type": "code",
   "execution_count": 32,
   "metadata": {},
   "outputs": [
    {
     "data": {
      "text/html": [
       "<div>\n",
       "<style scoped>\n",
       "    .dataframe tbody tr th:only-of-type {\n",
       "        vertical-align: middle;\n",
       "    }\n",
       "\n",
       "    .dataframe tbody tr th {\n",
       "        vertical-align: top;\n",
       "    }\n",
       "\n",
       "    .dataframe thead th {\n",
       "        text-align: right;\n",
       "    }\n",
       "</style>\n",
       "<table border=\"1\" class=\"dataframe\">\n",
       "  <thead>\n",
       "    <tr style=\"text-align: right;\">\n",
       "      <th></th>\n",
       "      <th>from_npi</th>\n",
       "      <th>to_npi</th>\n",
       "      <th>patient_count</th>\n",
       "      <th>transaction_count</th>\n",
       "      <th>average_day_wait</th>\n",
       "      <th>Phys_NPI</th>\n",
       "      <th>Phys_Office</th>\n",
       "      <th>Phys_Last_Name</th>\n",
       "      <th>Phys_First_Name</th>\n",
       "      <th>Phys_Class</th>\n",
       "      <th>Phys_Spec</th>\n",
       "      <th>Hosp_NPI</th>\n",
       "      <th>Hospital</th>\n",
       "      <th>Hosp_Class</th>\n",
       "      <th>Hosp_Spec</th>\n",
       "    </tr>\n",
       "  </thead>\n",
       "  <tbody>\n",
       "    <tr>\n",
       "      <th>0</th>\n",
       "      <td>1003819046</td>\n",
       "      <td>1023055126</td>\n",
       "      <td>11</td>\n",
       "      <td>11</td>\n",
       "      <td>13.182</td>\n",
       "      <td>1003819046</td>\n",
       "      <td>None</td>\n",
       "      <td>NYLANDER</td>\n",
       "      <td>BARBARA</td>\n",
       "      <td>Obstetrics &amp; Gynecology</td>\n",
       "      <td>Gynecology</td>\n",
       "      <td>1023055126</td>\n",
       "      <td>HCA HEALTH SERVICES OF TENNESSEE, INC.</td>\n",
       "      <td>General Acute Care Hospital</td>\n",
       "      <td>None</td>\n",
       "    </tr>\n",
       "    <tr>\n",
       "      <th>1</th>\n",
       "      <td>1750384780</td>\n",
       "      <td>1023055126</td>\n",
       "      <td>48</td>\n",
       "      <td>63</td>\n",
       "      <td>36.921</td>\n",
       "      <td>1750384780</td>\n",
       "      <td>None</td>\n",
       "      <td>PERRIGIN</td>\n",
       "      <td>JULIE</td>\n",
       "      <td>Family Medicine</td>\n",
       "      <td>None</td>\n",
       "      <td>1023055126</td>\n",
       "      <td>HCA HEALTH SERVICES OF TENNESSEE, INC.</td>\n",
       "      <td>General Acute Care Hospital</td>\n",
       "      <td>None</td>\n",
       "    </tr>\n",
       "    <tr>\n",
       "      <th>2</th>\n",
       "      <td>1750384780</td>\n",
       "      <td>1023055126</td>\n",
       "      <td>48</td>\n",
       "      <td>63</td>\n",
       "      <td>36.921</td>\n",
       "      <td>1750384780</td>\n",
       "      <td>None</td>\n",
       "      <td>PERRIGIN</td>\n",
       "      <td>JULIE</td>\n",
       "      <td>Family Medicine</td>\n",
       "      <td>None</td>\n",
       "      <td>1023055126</td>\n",
       "      <td>HCA HEALTH SERVICES OF TENNESSEE, INC.</td>\n",
       "      <td>General Acute Care Hospital</td>\n",
       "      <td>None</td>\n",
       "    </tr>\n",
       "    <tr>\n",
       "      <th>3</th>\n",
       "      <td>1750384780</td>\n",
       "      <td>1396882205</td>\n",
       "      <td>24</td>\n",
       "      <td>58</td>\n",
       "      <td>32.759</td>\n",
       "      <td>1750384780</td>\n",
       "      <td>None</td>\n",
       "      <td>PERRIGIN</td>\n",
       "      <td>JULIE</td>\n",
       "      <td>Family Medicine</td>\n",
       "      <td>None</td>\n",
       "      <td>1396882205</td>\n",
       "      <td>VANDERBILT UNIVERSITY MEDICAL CENTER</td>\n",
       "      <td>General Acute Care Hospital</td>\n",
       "      <td>None</td>\n",
       "    </tr>\n",
       "    <tr>\n",
       "      <th>4</th>\n",
       "      <td>1750384780</td>\n",
       "      <td>1396882205</td>\n",
       "      <td>24</td>\n",
       "      <td>58</td>\n",
       "      <td>32.759</td>\n",
       "      <td>1750384780</td>\n",
       "      <td>None</td>\n",
       "      <td>PERRIGIN</td>\n",
       "      <td>JULIE</td>\n",
       "      <td>Family Medicine</td>\n",
       "      <td>None</td>\n",
       "      <td>1396882205</td>\n",
       "      <td>VANDERBILT UNIVERSITY MEDICAL CENTER</td>\n",
       "      <td>General Acute Care Hospital</td>\n",
       "      <td>None</td>\n",
       "    </tr>\n",
       "    <tr>\n",
       "      <th>...</th>\n",
       "      <td>...</td>\n",
       "      <td>...</td>\n",
       "      <td>...</td>\n",
       "      <td>...</td>\n",
       "      <td>...</td>\n",
       "      <td>...</td>\n",
       "      <td>...</td>\n",
       "      <td>...</td>\n",
       "      <td>...</td>\n",
       "      <td>...</td>\n",
       "      <td>...</td>\n",
       "      <td>...</td>\n",
       "      <td>...</td>\n",
       "      <td>...</td>\n",
       "      <td>...</td>\n",
       "    </tr>\n",
       "    <tr>\n",
       "      <th>35726</th>\n",
       "      <td>1558887091</td>\n",
       "      <td>1164590386</td>\n",
       "      <td>17</td>\n",
       "      <td>17</td>\n",
       "      <td>7.294</td>\n",
       "      <td>1558887091</td>\n",
       "      <td>None</td>\n",
       "      <td>DUNCAN</td>\n",
       "      <td>JEFFREY</td>\n",
       "      <td>Nurse Anesthetist, Certified Registered</td>\n",
       "      <td>None</td>\n",
       "      <td>1164590386</td>\n",
       "      <td>SAINT THOMAS RUTHERFORD HOSPITAL</td>\n",
       "      <td>General Acute Care Hospital</td>\n",
       "      <td>None</td>\n",
       "    </tr>\n",
       "    <tr>\n",
       "      <th>35727</th>\n",
       "      <td>1760908362</td>\n",
       "      <td>1447571658</td>\n",
       "      <td>13</td>\n",
       "      <td>15</td>\n",
       "      <td>12.200</td>\n",
       "      <td>1760908362</td>\n",
       "      <td>None</td>\n",
       "      <td>BLATT</td>\n",
       "      <td>KATHERINE</td>\n",
       "      <td>Physical Therapist</td>\n",
       "      <td>None</td>\n",
       "      <td>1447571658</td>\n",
       "      <td>SUMNER REGIONAL MEDICAL CENTER LLC</td>\n",
       "      <td>General Acute Care Hospital</td>\n",
       "      <td>None</td>\n",
       "    </tr>\n",
       "    <tr>\n",
       "      <th>35728</th>\n",
       "      <td>1306362637</td>\n",
       "      <td>1780778969</td>\n",
       "      <td>21</td>\n",
       "      <td>21</td>\n",
       "      <td>1.000</td>\n",
       "      <td>1306362637</td>\n",
       "      <td>None</td>\n",
       "      <td>WILGING</td>\n",
       "      <td>ERIN</td>\n",
       "      <td>Nurse Anesthetist, Certified Registered</td>\n",
       "      <td>None</td>\n",
       "      <td>1780778969</td>\n",
       "      <td>SAINT THOMAS WEST HOSPITAL</td>\n",
       "      <td>General Acute Care Hospital</td>\n",
       "      <td>None</td>\n",
       "    </tr>\n",
       "    <tr>\n",
       "      <th>35729</th>\n",
       "      <td>1063923407</td>\n",
       "      <td>1396882205</td>\n",
       "      <td>13</td>\n",
       "      <td>13</td>\n",
       "      <td>7.231</td>\n",
       "      <td>1063923407</td>\n",
       "      <td>None</td>\n",
       "      <td>PICKENS</td>\n",
       "      <td>REBECCA</td>\n",
       "      <td>Nurse Practitioner</td>\n",
       "      <td>Acute Care</td>\n",
       "      <td>1396882205</td>\n",
       "      <td>VANDERBILT UNIVERSITY MEDICAL CENTER</td>\n",
       "      <td>General Acute Care Hospital</td>\n",
       "      <td>None</td>\n",
       "    </tr>\n",
       "    <tr>\n",
       "      <th>35730</th>\n",
       "      <td>1265943328</td>\n",
       "      <td>1861479545</td>\n",
       "      <td>12</td>\n",
       "      <td>14</td>\n",
       "      <td>9.000</td>\n",
       "      <td>1265943328</td>\n",
       "      <td>None</td>\n",
       "      <td>BASS</td>\n",
       "      <td>JONATHAN</td>\n",
       "      <td>Physical Therapist</td>\n",
       "      <td>None</td>\n",
       "      <td>1861479545</td>\n",
       "      <td>MAURY REGIONAL HOSPITAL</td>\n",
       "      <td>General Acute Care Hospital</td>\n",
       "      <td>None</td>\n",
       "    </tr>\n",
       "  </tbody>\n",
       "</table>\n",
       "<p>35731 rows × 15 columns</p>\n",
       "</div>"
      ],
      "text/plain": [
       "         from_npi      to_npi  patient_count  transaction_count  \\\n",
       "0      1003819046  1023055126             11                 11   \n",
       "1      1750384780  1023055126             48                 63   \n",
       "2      1750384780  1023055126             48                 63   \n",
       "3      1750384780  1396882205             24                 58   \n",
       "4      1750384780  1396882205             24                 58   \n",
       "...           ...         ...            ...                ...   \n",
       "35726  1558887091  1164590386             17                 17   \n",
       "35727  1760908362  1447571658             13                 15   \n",
       "35728  1306362637  1780778969             21                 21   \n",
       "35729  1063923407  1396882205             13                 13   \n",
       "35730  1265943328  1861479545             12                 14   \n",
       "\n",
       "       average_day_wait    Phys_NPI Phys_Office Phys_Last_Name  \\\n",
       "0                13.182  1003819046        None       NYLANDER   \n",
       "1                36.921  1750384780        None       PERRIGIN   \n",
       "2                36.921  1750384780        None       PERRIGIN   \n",
       "3                32.759  1750384780        None       PERRIGIN   \n",
       "4                32.759  1750384780        None       PERRIGIN   \n",
       "...                 ...         ...         ...            ...   \n",
       "35726             7.294  1558887091        None         DUNCAN   \n",
       "35727            12.200  1760908362        None          BLATT   \n",
       "35728             1.000  1306362637        None        WILGING   \n",
       "35729             7.231  1063923407        None        PICKENS   \n",
       "35730             9.000  1265943328        None           BASS   \n",
       "\n",
       "      Phys_First_Name                               Phys_Class   Phys_Spec  \\\n",
       "0             BARBARA                  Obstetrics & Gynecology  Gynecology   \n",
       "1               JULIE                          Family Medicine        None   \n",
       "2               JULIE                          Family Medicine        None   \n",
       "3               JULIE                          Family Medicine        None   \n",
       "4               JULIE                          Family Medicine        None   \n",
       "...               ...                                      ...         ...   \n",
       "35726         JEFFREY  Nurse Anesthetist, Certified Registered        None   \n",
       "35727       KATHERINE                       Physical Therapist        None   \n",
       "35728            ERIN  Nurse Anesthetist, Certified Registered        None   \n",
       "35729         REBECCA                       Nurse Practitioner  Acute Care   \n",
       "35730        JONATHAN                       Physical Therapist        None   \n",
       "\n",
       "         Hosp_NPI                                Hospital  \\\n",
       "0      1023055126  HCA HEALTH SERVICES OF TENNESSEE, INC.   \n",
       "1      1023055126  HCA HEALTH SERVICES OF TENNESSEE, INC.   \n",
       "2      1023055126  HCA HEALTH SERVICES OF TENNESSEE, INC.   \n",
       "3      1396882205    VANDERBILT UNIVERSITY MEDICAL CENTER   \n",
       "4      1396882205    VANDERBILT UNIVERSITY MEDICAL CENTER   \n",
       "...           ...                                     ...   \n",
       "35726  1164590386        SAINT THOMAS RUTHERFORD HOSPITAL   \n",
       "35727  1447571658      SUMNER REGIONAL MEDICAL CENTER LLC   \n",
       "35728  1780778969              SAINT THOMAS WEST HOSPITAL   \n",
       "35729  1396882205    VANDERBILT UNIVERSITY MEDICAL CENTER   \n",
       "35730  1861479545                 MAURY REGIONAL HOSPITAL   \n",
       "\n",
       "                        Hosp_Class Hosp_Spec  \n",
       "0      General Acute Care Hospital      None  \n",
       "1      General Acute Care Hospital      None  \n",
       "2      General Acute Care Hospital      None  \n",
       "3      General Acute Care Hospital      None  \n",
       "4      General Acute Care Hospital      None  \n",
       "...                            ...       ...  \n",
       "35726  General Acute Care Hospital      None  \n",
       "35727  General Acute Care Hospital      None  \n",
       "35728  General Acute Care Hospital      None  \n",
       "35729  General Acute Care Hospital      None  \n",
       "35730  General Acute Care Hospital      None  \n",
       "\n",
       "[35731 rows x 15 columns]"
      ]
     },
     "execution_count": 32,
     "metadata": {},
     "output_type": "execute_result"
    }
   ],
   "source": [
    "filtered_hop_teaming"
   ]
  },
  {
   "cell_type": "code",
   "execution_count": 30,
   "metadata": {},
   "outputs": [],
   "source": [
    "filtered_hop_teaming.to_csv(\"data/Filtered_Hop_Team_Data\")"
   ]
  },
  {
   "cell_type": "code",
   "execution_count": 7,
   "metadata": {},
   "outputs": [],
   "source": [
    "filtered_hop_teaming.to_sql('hop_filtered', db, if_exists = 'append', index = False)"
   ]
  },
  {
   "cell_type": "code",
   "execution_count": 8,
   "metadata": {},
   "outputs": [],
   "source": [
    "db.close()"
   ]
  },
  {
   "cell_type": "code",
   "execution_count": null,
   "metadata": {},
   "outputs": [],
   "source": [
    "query1 = \"\"\"\n",
    "        SELECT *\n",
    "        FROM npidata AS n\n",
    "        INNER JOIN taxonomy AS t\n",
    "        on n.Healthcare_Provider_Taxonomy_Code = t.Code\n",
    "        INNER JOIN hop_filtered AS h \n",
    "        on n.NPI = h.to_npi\n",
    "        INNER JOIN CBSA as c\n",
    "        on n.Address_Postal_Codes = c.ZIP\n",
    "        WHERE CBSA = 34980 AND Classification = 'General Acute Care Hospital'\n",
    " \"\"\""
   ]
  },
  {
   "cell_type": "code",
   "execution_count": null,
   "metadata": {},
   "outputs": [],
   "source": []
  },
  {
   "cell_type": "markdown",
   "metadata": {},
   "source": [
    "Questions to consider with the data:\n",
    "- How do we combine and filter datasets to have npi_from to be entity type 1's only and to_npi to be entity type 2's only\n",
    "- Once we have the completed dataset, Are there any filters we want to put on taxonomy classification types (i.e. drama therapists, veterinarian, bus, train etc.)\n",
    "- What hospitals are we considering in this analysis?"
   ]
  }
 ],
 "metadata": {
  "kernelspec": {
   "display_name": "Python 3",
   "language": "python",
   "name": "python3"
  },
  "language_info": {
   "codemirror_mode": {
    "name": "ipython",
    "version": 3
   },
   "file_extension": ".py",
   "mimetype": "text/x-python",
   "name": "python",
   "nbconvert_exporter": "python",
   "pygments_lexer": "ipython3",
   "version": "3.8.3"
  }
 },
 "nbformat": 4,
 "nbformat_minor": 4
}
