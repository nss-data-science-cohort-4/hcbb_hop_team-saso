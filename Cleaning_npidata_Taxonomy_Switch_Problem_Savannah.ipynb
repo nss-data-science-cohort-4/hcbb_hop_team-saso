{
 "cells": [
  {
   "cell_type": "markdown",
   "metadata": {},
   "source": [
    "# Cleaning ___npidata___ (Taxonomy Switch Problem)"
   ]
  },
  {
   "cell_type": "markdown",
   "metadata": {},
   "source": [
    "## 1. Importing Stuff"
   ]
  },
  {
   "cell_type": "code",
   "execution_count": 1,
   "metadata": {},
   "outputs": [],
   "source": [
    "# importing stuff\n",
    "import pandas as pd\n",
    "import sqlite3\n",
    "from tqdm.notebook import tqdm\n",
    "\n",
    "# showing lots of rows and columns\n",
    "pd.set_option('display.max_columns', 999)\n",
    "pd.set_option('display.max_rows', 999)\n",
    "\n",
    "# hiding annoying pink warning boxes\n",
    "import warnings\n",
    "warnings.filterwarnings(\"ignore\")"
   ]
  },
  {
   "cell_type": "markdown",
   "metadata": {},
   "source": [
    "## 2. Reading in as many rows as possible"
   ]
  },
  {
   "cell_type": "code",
   "execution_count": 2,
   "metadata": {},
   "outputs": [],
   "source": [
    "#testing how much I can load in\n",
    "npidata = pd.read_csv('data/NPPES_Data_Dissemination_February_2021/npidata_pfile_20050523-20210207.csv', \n",
    "                          nrows = 150000)"
   ]
  },
  {
   "cell_type": "markdown",
   "metadata": {},
   "source": [
    "## 3. Making a new column that gives the number where the Taxonomy_Switch = 'Y'"
   ]
  },
  {
   "cell_type": "code",
   "execution_count": 3,
   "metadata": {},
   "outputs": [],
   "source": [
    "npidata['taxonomy_switch_num'] = 0\n",
    "\n",
    "#looping through each row in df\n",
    "for i in range(npidata.shape[0]):\n",
    "    j = 1\n",
    "    while j <= 15:\n",
    "        column_name = \"Healthcare Provider Primary Taxonomy Switch_\" + str(j)\n",
    "        if npidata[column_name].iloc[i] == 'Y':\n",
    "            npidata['taxonomy_switch_num'].iloc[i] = j\n",
    "            j = 16\n",
    "        j+=1"
   ]
  },
  {
   "cell_type": "markdown",
   "metadata": {},
   "source": [
    "## 4. Getting rid of all rows that did not have a Taxonmy_Switch = 'Y' anywhere"
   ]
  },
  {
   "cell_type": "code",
   "execution_count": 4,
   "metadata": {},
   "outputs": [],
   "source": [
    "npidata = npidata[npidata['taxonomy_switch_num'] != 0]"
   ]
  },
  {
   "cell_type": "markdown",
   "metadata": {},
   "source": [
    "## 5. Creating 3 new columns with the provider info to keep"
   ]
  },
  {
   "cell_type": "code",
   "execution_count": 5,
   "metadata": {},
   "outputs": [],
   "source": [
    "# Setting up New Columns to Eventually Keep\n",
    "npidata['Healthcare_Provider_Taxonomy_Code'] = 'Nothing Yet'\n",
    "npidata['Provider_License_Number'] = 'Nothing Yet'\n",
    "npidata['Provider_License_Number_State'] = 'Nothing Yet'"
   ]
  },
  {
   "cell_type": "markdown",
   "metadata": {},
   "source": [
    "## 6. Filling in new columns with the correct info based on the taxonomy_switch number"
   ]
  },
  {
   "cell_type": "code",
   "execution_count": 6,
   "metadata": {},
   "outputs": [],
   "source": [
    "# iterating through the number of rows\n",
    "for k in range(npidata.shape[0]):\n",
    "    col_1 = \"Healthcare Provider Taxonomy Code_\" + str(npidata['taxonomy_switch_num'].iloc[k])\n",
    "    npidata['Healthcare_Provider_Taxonomy_Code'].iloc[k] = npidata[col_1].iloc[k]\n",
    "    \n",
    "    col_2 = \"Provider License Number_\" + str(npidata['taxonomy_switch_num'].iloc[k])\n",
    "    npidata['Provider_License_Number'].iloc[k] = npidata[col_2].iloc[k]\n",
    "    \n",
    "    col_3 = \"Provider License Number State Code_\" + str(npidata['taxonomy_switch_num'].iloc[k])\n",
    "    npidata['Provider_License_Number_State'].iloc[k] = npidata[col_3].iloc[k]"
   ]
  },
  {
   "cell_type": "markdown",
   "metadata": {},
   "source": [
    "## 7. Subsetting the df for only the needed columns"
   ]
  },
  {
   "cell_type": "code",
   "execution_count": 7,
   "metadata": {},
   "outputs": [],
   "source": [
    "#Subsetting for needed columns\n",
    "#choosing not to include middle name, Replacement NPI, and (EIN) b/c they are mostly NaN (Can add later if needed)\n",
    "npidata = npidata[['NPI','Entity Type Code','Provider Organization Name (Legal Business Name)',\n",
    "                   'Provider Last Name (Legal Name)','Provider First Name',\n",
    "                   'Provider Credential Text','Provider Gender Code','taxonomy_switch_num',\n",
    "                  'Healthcare_Provider_Taxonomy_Code','Provider_License_Number','Provider_License_Number_State']]"
   ]
  },
  {
   "cell_type": "markdown",
   "metadata": {},
   "source": [
    "## 8. Renaming the columns so the df is easier to work with"
   ]
  },
  {
   "cell_type": "code",
   "execution_count": 8,
   "metadata": {},
   "outputs": [],
   "source": [
    "#Renaming Columns\n",
    "npidata = npidata.rename(columns = {\"Entity Type Code\": \"Entity_Type_Code\",\n",
    "                                    \"Provider Organization Name (Legal Business Name)\":\"Provider_Organization_Name\",\n",
    "                                   \"Provider Last Name (Legal Name)\":\"Provider_Last_Name\",\n",
    "                                   \"Provider First Name\":\"Provider_First_Name\",\n",
    "                                   \"Provider Credential Text\":\"Provider_Credential_Text\",\n",
    "                                   \"Provider Gender Code\":\"Gender\"})"
   ]
  },
  {
   "cell_type": "markdown",
   "metadata": {},
   "source": [
    "## 9. Taking a look at the clean data"
   ]
  },
  {
   "cell_type": "code",
   "execution_count": 9,
   "metadata": {},
   "outputs": [
    {
     "data": {
      "text/html": [
       "<div>\n",
       "<style scoped>\n",
       "    .dataframe tbody tr th:only-of-type {\n",
       "        vertical-align: middle;\n",
       "    }\n",
       "\n",
       "    .dataframe tbody tr th {\n",
       "        vertical-align: top;\n",
       "    }\n",
       "\n",
       "    .dataframe thead th {\n",
       "        text-align: right;\n",
       "    }\n",
       "</style>\n",
       "<table border=\"1\" class=\"dataframe\">\n",
       "  <thead>\n",
       "    <tr style=\"text-align: right;\">\n",
       "      <th></th>\n",
       "      <th>NPI</th>\n",
       "      <th>Entity_Type_Code</th>\n",
       "      <th>Provider_Organization_Name</th>\n",
       "      <th>Provider_Last_Name</th>\n",
       "      <th>Provider_First_Name</th>\n",
       "      <th>Provider_Credential_Text</th>\n",
       "      <th>Gender</th>\n",
       "      <th>taxonomy_switch_num</th>\n",
       "      <th>Healthcare_Provider_Taxonomy_Code</th>\n",
       "      <th>Provider_License_Number</th>\n",
       "      <th>Provider_License_Number_State</th>\n",
       "    </tr>\n",
       "  </thead>\n",
       "  <tbody>\n",
       "    <tr>\n",
       "      <th>149995</th>\n",
       "      <td>1760479257</td>\n",
       "      <td>1.0</td>\n",
       "      <td>NaN</td>\n",
       "      <td>NEELY</td>\n",
       "      <td>BRIAN</td>\n",
       "      <td>MD</td>\n",
       "      <td>M</td>\n",
       "      <td>1</td>\n",
       "      <td>207Q00000X</td>\n",
       "      <td>0101228375</td>\n",
       "      <td>VA</td>\n",
       "    </tr>\n",
       "    <tr>\n",
       "      <th>149996</th>\n",
       "      <td>1679560163</td>\n",
       "      <td>1.0</td>\n",
       "      <td>NaN</td>\n",
       "      <td>HAMILTON</td>\n",
       "      <td>DWIGHT</td>\n",
       "      <td>MD</td>\n",
       "      <td>M</td>\n",
       "      <td>1</td>\n",
       "      <td>208G00000X</td>\n",
       "      <td>MD2009-0566</td>\n",
       "      <td>NM</td>\n",
       "    </tr>\n",
       "    <tr>\n",
       "      <th>149997</th>\n",
       "      <td>1588651079</td>\n",
       "      <td>2.0</td>\n",
       "      <td>BOSTON CHILDRENS HEALTH PHYSICIANS LLP</td>\n",
       "      <td>NaN</td>\n",
       "      <td>NaN</td>\n",
       "      <td>NaN</td>\n",
       "      <td>NaN</td>\n",
       "      <td>1</td>\n",
       "      <td>291U00000X</td>\n",
       "      <td>=========</td>\n",
       "      <td>NY</td>\n",
       "    </tr>\n",
       "    <tr>\n",
       "      <th>149998</th>\n",
       "      <td>1396732889</td>\n",
       "      <td>1.0</td>\n",
       "      <td>NaN</td>\n",
       "      <td>CARTER</td>\n",
       "      <td>COY</td>\n",
       "      <td>CRNA</td>\n",
       "      <td>M</td>\n",
       "      <td>1</td>\n",
       "      <td>367500000X</td>\n",
       "      <td>C00561</td>\n",
       "      <td>AR</td>\n",
       "    </tr>\n",
       "    <tr>\n",
       "      <th>149999</th>\n",
       "      <td>1205823796</td>\n",
       "      <td>1.0</td>\n",
       "      <td>NaN</td>\n",
       "      <td>MENDOZA</td>\n",
       "      <td>GLENN</td>\n",
       "      <td>MD</td>\n",
       "      <td>M</td>\n",
       "      <td>1</td>\n",
       "      <td>2080N0001X</td>\n",
       "      <td>148338</td>\n",
       "      <td>NY</td>\n",
       "    </tr>\n",
       "  </tbody>\n",
       "</table>\n",
       "</div>"
      ],
      "text/plain": [
       "               NPI  Entity_Type_Code              Provider_Organization_Name  \\\n",
       "149995  1760479257               1.0                                     NaN   \n",
       "149996  1679560163               1.0                                     NaN   \n",
       "149997  1588651079               2.0  BOSTON CHILDRENS HEALTH PHYSICIANS LLP   \n",
       "149998  1396732889               1.0                                     NaN   \n",
       "149999  1205823796               1.0                                     NaN   \n",
       "\n",
       "       Provider_Last_Name Provider_First_Name Provider_Credential_Text Gender  \\\n",
       "149995              NEELY               BRIAN                       MD      M   \n",
       "149996           HAMILTON              DWIGHT                       MD      M   \n",
       "149997                NaN                 NaN                      NaN    NaN   \n",
       "149998             CARTER                 COY                     CRNA      M   \n",
       "149999            MENDOZA               GLENN                       MD      M   \n",
       "\n",
       "        taxonomy_switch_num Healthcare_Provider_Taxonomy_Code  \\\n",
       "149995                    1                        207Q00000X   \n",
       "149996                    1                        208G00000X   \n",
       "149997                    1                        291U00000X   \n",
       "149998                    1                        367500000X   \n",
       "149999                    1                        2080N0001X   \n",
       "\n",
       "       Provider_License_Number Provider_License_Number_State  \n",
       "149995              0101228375                            VA  \n",
       "149996             MD2009-0566                            NM  \n",
       "149997               =========                            NY  \n",
       "149998                  C00561                            AR  \n",
       "149999                  148338                            NY  "
      ]
     },
     "execution_count": 9,
     "metadata": {},
     "output_type": "execute_result"
    }
   ],
   "source": [
    "#Looking at clean data\n",
    "npidata.tail()"
   ]
  },
  {
   "cell_type": "markdown",
   "metadata": {},
   "source": [
    "## 10. Exporting Data to CSV so we have something to start working with"
   ]
  },
  {
   "cell_type": "code",
   "execution_count": 10,
   "metadata": {},
   "outputs": [],
   "source": [
    "npidata.to_csv(r'data/NPPES_Data_Dissemination_February_2021/npidata_clean.csv', header = True)"
   ]
  },
  {
   "cell_type": "code",
   "execution_count": null,
   "metadata": {},
   "outputs": [],
   "source": []
  },
  {
   "cell_type": "code",
   "execution_count": null,
   "metadata": {},
   "outputs": [],
   "source": []
  }
 ],
 "metadata": {
  "kernelspec": {
   "display_name": "Python 3",
   "language": "python",
   "name": "python3"
  },
  "language_info": {
   "codemirror_mode": {
    "name": "ipython",
    "version": 3
   },
   "file_extension": ".py",
   "mimetype": "text/x-python",
   "name": "python",
   "nbconvert_exporter": "python",
   "pygments_lexer": "ipython3",
   "version": "3.7.6"
  }
 },
 "nbformat": 4,
 "nbformat_minor": 4
}
