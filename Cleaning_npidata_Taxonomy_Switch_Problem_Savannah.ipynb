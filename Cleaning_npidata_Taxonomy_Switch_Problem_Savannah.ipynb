{
 "cells": [
  {
   "cell_type": "markdown",
   "metadata": {},
   "source": [
    "# Cleaning ___npidata___ (Taxonomy Switch Problem)"
   ]
  },
  {
   "cell_type": "markdown",
   "metadata": {},
   "source": [
    "## 1. Importing Stuff"
   ]
  },
  {
   "cell_type": "code",
   "execution_count": 1,
   "metadata": {},
   "outputs": [],
   "source": [
    "# importing stuff\n",
    "import pandas as pd\n",
    "import sqlite3\n",
    "from tqdm.notebook import tqdm\n",
    "import re\n",
    "\n",
    "# showing lots of rows and columns\n",
    "pd.set_option('display.max_columns', 999)\n",
    "pd.set_option('display.max_rows', 999)\n",
    "\n",
    "# hiding annoying pink warning boxes\n",
    "import warnings\n",
    "warnings.filterwarnings(\"ignore\")"
   ]
  },
  {
   "cell_type": "markdown",
   "metadata": {},
   "source": [
    "## 2. Defining a Function that pulls the Get_Taxonomy_Code"
   ]
  },
  {
   "cell_type": "code",
   "execution_count": 2,
   "metadata": {},
   "outputs": [],
   "source": [
    "# defining a function to get the taxonomy code\n",
    "def Get_Taxonomy_Code(df_row):\n",
    "    j = 1\n",
    "    switch_code = 0\n",
    "    while j <= 15:\n",
    "        column_name = \"Healthcare Provider Primary Taxonomy Switch_\" + str(j)\n",
    "        if df_row[column_name] == 'Y':\n",
    "            switch_code = j\n",
    "            j = 16\n",
    "        j+=1\n",
    "    if switch_code != 0:\n",
    "        col_1 = \"Healthcare Provider Taxonomy Code_\" + str(switch_code)\n",
    "        return df_row[col_1]\n",
    "    else:\n",
    "        return -1"
   ]
  },
  {
   "cell_type": "markdown",
   "metadata": {},
   "source": [
    "## 3. Setting up an Empty Database"
   ]
  },
  {
   "cell_type": "code",
   "execution_count": 7,
   "metadata": {},
   "outputs": [],
   "source": [
    "#Setting up empty data base\n",
    "db = sqlite3.connect('data/NPPES_Data_Dissemination_February_2021/npidata2.sqlite')"
   ]
  },
  {
   "cell_type": "markdown",
   "metadata": {},
   "source": [
    "## 4. Looping to Fill the Tables in Database and Clean Data "
   ]
  },
  {
   "cell_type": "markdown",
   "metadata": {},
   "source": [
    "### ------------------------ Npidata Table ------------------------"
   ]
  },
  {
   "cell_type": "code",
   "execution_count": 4,
   "metadata": {
    "scrolled": true
   },
   "outputs": [
    {
     "data": {
      "application/vnd.jupyter.widget-view+json": {
       "model_id": "0cd3c6f273464ffebe1f8d20163fde70",
       "version_major": 2,
       "version_minor": 0
      },
      "text/plain": [
       "HBox(children=(FloatProgress(value=1.0, bar_style='info', max=1.0), HTML(value='')))"
      ]
     },
     "metadata": {},
     "output_type": "display_data"
    },
    {
     "name": "stdout",
     "output_type": "stream",
     "text": [
      "\n"
     ]
    }
   ],
   "source": [
    "# filling in the database\n",
    "for chunk in tqdm(pd.read_csv('data/NPPES_Data_Dissemination_February_2021/npidata_pfile_20050523-20210207.csv', chunksize = 10000)):\n",
    "    \n",
    "    # Keeping only if in TN\n",
    "    chunk = chunk[chunk['Provider Business Practice Location Address State Name'] == 'TN']\n",
    "    \n",
    "    # making int then str for easier zipcodes later\n",
    "    chunk['Provider Business Practice Location Address Postal Code'] = chunk['Provider Business Practice Location Address Postal Code'].astype(int)\n",
    "    chunk['Provider Business Practice Location Address Postal Code'] = chunk['Provider Business Practice Location Address Postal Code'].astype(str)\n",
    "    \n",
    "    # applying function to get \n",
    "    chunk['Healthcare_Provider_Taxonomy_Code'] = chunk.apply(Get_Taxonomy_Code, axis = 1)\n",
    "    \n",
    "    # Only Keeping if it has a Taxonomy code\n",
    "    chunk = chunk[chunk['Healthcare_Provider_Taxonomy_Code'] != -1]\n",
    "    \n",
    "    # Cleaning Column names\n",
    "    chunk.columns = [x.replace(' ', '_') for x in chunk.columns]    \n",
    "    \n",
    "    # Only keeping some columns\n",
    "    chunk = chunk[['NPI','Entity_Type_Code','Provider_Organization_Name_(Legal_Business_Name)',\n",
    "                   'Provider_Last_Name_(Legal_Name)','Provider_First_Name',\n",
    "                   'Provider_First_Line_Business_Practice_Location_Address',\n",
    "                   'Provider_Second_Line_Business_Practice_Location_Address',\n",
    "                   'Provider_Business_Practice_Location_Address_City_Name',\n",
    "                   'Provider_Business_Practice_Location_Address_Postal_Code',\n",
    "                   'Provider_Credential_Text','Provider_Gender_Code',\n",
    "                  'Healthcare_Provider_Taxonomy_Code']]\n",
    "    \n",
    "    # Renaming columns\n",
    "    chunk = chunk.rename(columns = {\"Entity_Type_Code\": \"Entity_Type_Code\",\n",
    "                                    \"Provider_Organization_Name_(Legal_Business_Name)\":\"Provider_Organization_Name\",\n",
    "                                   \"Provider_Last_Name_(Legal_Name)\":\"Provider_Last_Name\",\n",
    "                                   \"Provider_First_Name\":\"Provider_First_Name\",\n",
    "                                   \"Provider_Credential_Text\":\"Provider_Credential_Text\",\n",
    "                                   \"Provider_Gender_Code\":\"Gender\",\n",
    "                                   'Provider_First_Line_Business_Practice_Location_Address':'First_Line_Address',\n",
    "                                   'Provider_Second_Line_Business_Practice_Location_Address':'Second_Line_Address',\n",
    "                                   'Provider_Business_Practice_Location_Address_City_Name':'Address_City',\n",
    "                                   'Provider_Business_Practice_Location_Address_Postal_Code':'Address_Postal_Codes'})\n",
    "    \n",
    "    # regex to isolate first five numbers of address postal codes\n",
    "    chunk['Address_Postal_Codes'] = chunk['Address_Postal_Codes'].str.extract('(^\\d{5})')\n",
    "    \n",
    "    chunk.to_sql('npidata', db, if_exists = 'append', index = False)            # Append the chunk to a calls table"
   ]
  },
  {
   "cell_type": "markdown",
   "metadata": {},
   "source": [
    "### ------------------------ Taxonomy Table ------------------------"
   ]
  },
  {
   "cell_type": "code",
   "execution_count": 5,
   "metadata": {},
   "outputs": [],
   "source": [
    "# adding table taxonomy to our database\n",
    "pd.read_csv('data/nucc_taxonomy_210.csv').to_sql('taxonomy', db, if_exists = 'append', index = False)"
   ]
  },
  {
   "cell_type": "markdown",
   "metadata": {},
   "source": [
    "### ------------------------ CBSA Table ------------------------"
   ]
  },
  {
   "cell_type": "code",
   "execution_count": 11,
   "metadata": {},
   "outputs": [],
   "source": [
    "# adding table CBSA to our database\n",
    "pd.read_excel('data/ZIP_CBSA_122020.xlsx').to_sql('CBSA', db, if_exists = 'append', index = False)"
   ]
  },
  {
   "cell_type": "markdown",
   "metadata": {},
   "source": [
    "### ------------------------ Hops Table ------------------------"
   ]
  },
  {
   "cell_type": "code",
   "execution_count": 10,
   "metadata": {},
   "outputs": [
    {
     "data": {
      "application/vnd.jupyter.widget-view+json": {
       "model_id": "a19fe385111743c4b33838e685ade18f",
       "version_major": 2,
       "version_minor": 0
      },
      "text/plain": [
       "HBox(children=(FloatProgress(value=1.0, bar_style='info', max=1.0), HTML(value='')))"
      ]
     },
     "metadata": {},
     "output_type": "display_data"
    },
    {
     "name": "stdout",
     "output_type": "stream",
     "text": [
      "\n"
     ]
    }
   ],
   "source": [
    "# adding table hops to our database\n",
    "# filling in the database\n",
    "for chunk in tqdm(pd.read_csv('data/DocGraph_Hop_Teaming_2017_Non_Commercial/DocGraph_Hop_Teaming_2017.csv', chunksize = 10000)):\n",
    "    chunk = chunk[(chunk['transaction_count'] >= 50) & (chunk['average_day_wait'] < 50)]\n",
    "    chunk.to_sql('hops', db, if_exists = 'append', index = False)            # Append the chunk to a calls table"
   ]
  },
  {
   "cell_type": "code",
   "execution_count": null,
   "metadata": {},
   "outputs": [],
   "source": [
    "db.close()"
   ]
  }
 ],
 "metadata": {
  "kernelspec": {
   "display_name": "Python 3",
   "language": "python",
   "name": "python3"
  },
  "language_info": {
   "codemirror_mode": {
    "name": "ipython",
    "version": 3
   },
   "file_extension": ".py",
   "mimetype": "text/x-python",
   "name": "python",
   "nbconvert_exporter": "python",
   "pygments_lexer": "ipython3",
   "version": "3.7.6"
  }
 },
 "nbformat": 4,
 "nbformat_minor": 4
}
